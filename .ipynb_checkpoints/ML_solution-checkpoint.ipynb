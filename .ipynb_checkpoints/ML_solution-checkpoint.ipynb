{
 "cells": [
  {
   "cell_type": "raw",
   "id": "cb32add4-664f-4d5f-b05d-f79dc1d9cbfa",
   "metadata": {},
   "source": [
    "                     Aniket Jagdish Apraj \n",
    "''''''Solution for test_data.csv weather the Client will Subscribe or Not'''''"
   ]
  },
  {
   "cell_type": "code",
   "execution_count": 3,
   "id": "07b4320e-69e9-4302-9f95-745a73afa91d",
   "metadata": {},
   "outputs": [],
   "source": [
    "# Import All Libraries\n",
    "\n",
    "import pandas as pd\n",
    "import numpy as np\n",
    "import matplotlib.pyplot as plt\n",
    "import seaborn as sns\n",
    "from sklearn.preprocessing import MinMaxScaler,StandardScaler"
   ]
  },
  {
   "cell_type": "code",
   "execution_count": 5,
   "id": "12f7a4df-d650-48da-bac5-6785a245db57",
   "metadata": {},
   "outputs": [
    {
     "name": "stdout",
     "output_type": "stream",
     "text": [
      "      age          job   marital  education default  balance housing loan  \\\n",
      "0      38   technician   married   tertiary      no      127     yes   no   \n",
      "1      41    housemaid   married    primary      no      365      no   no   \n",
      "2      39   management    single   tertiary      no     2454     yes   no   \n",
      "3      49  blue-collar   married    primary      no     6215     yes   no   \n",
      "4      37     services   married  secondary      no     1694     yes  yes   \n",
      "...   ...          ...       ...        ...     ...      ...     ...  ...   \n",
      "8366   52   management   married   tertiary      no      388      no   no   \n",
      "8367   39     services   married  secondary      no     2758      no   no   \n",
      "8368   38  blue-collar   married    primary      no      178     yes   no   \n",
      "8369   59      retired  divorced    unknown      no      -49     yes   no   \n",
      "8370   41  blue-collar  divorced    primary      no        0      no   no   \n",
      "\n",
      "       contact  day month  duration  campaign  pdays  previous poutcome  \\\n",
      "0     cellular   14   oct       113         1     50         2  success   \n",
      "1     cellular    8   aug       203         5     -1         0  unknown   \n",
      "2     cellular    4   may       716         3    263         2  failure   \n",
      "3     cellular   11   may       549         1     -1         0  unknown   \n",
      "4     cellular   29   jan       404         2    251         6  failure   \n",
      "...        ...  ...   ...       ...       ...    ...       ...      ...   \n",
      "8366  cellular   25   may       272         1     -1         0  unknown   \n",
      "8367  cellular    4   feb       658         3     -1         0  unknown   \n",
      "8368   unknown   20   may       245         1     -1         0  unknown   \n",
      "8369   unknown   13   may       248         2     -1         0  unknown   \n",
      "8370  cellular   30   jul       509         2     -1         0  unknown   \n",
      "\n",
      "     deposit  \n",
      "0         no  \n",
      "1         no  \n",
      "2        yes  \n",
      "3         no  \n",
      "4         no  \n",
      "...      ...  \n",
      "8366     yes  \n",
      "8367     yes  \n",
      "8368      no  \n",
      "8369      no  \n",
      "8370     yes  \n",
      "\n",
      "[8371 rows x 17 columns]\n"
     ]
    }
   ],
   "source": [
    "# Upload Given Csv File data.csv and test_data,csv\n",
    "\n",
    "data = pd.read_csv (r'C:\\Users\\Aniket Apraj\\MLSolution\\data.csv')\n",
    "test_data = pd.read_csv (r'C:\\Users\\Aniket Apraj\\MLSolution\\test_data.csv')\n",
    "# data = pd.read_csv (r'C:\\Users\\Aniket Apraj\\MLSolution\\test_data.csv',sep = ';')\n",
    "print (data)\n",
    "# data.head()"
   ]
  },
  {
   "cell_type": "code",
   "execution_count": 6,
   "id": "392d5fed-2603-47ec-8589-afa34abec027",
   "metadata": {},
   "outputs": [
    {
     "name": "stdout",
     "output_type": "stream",
     "text": [
      "(8371, 17)\n",
      "   age          job  marital  education default  balance housing loan  \\\n",
      "0   38   technician  married   tertiary      no      127     yes   no   \n",
      "1   41    housemaid  married    primary      no      365      no   no   \n",
      "2   39   management   single   tertiary      no     2454     yes   no   \n",
      "3   49  blue-collar  married    primary      no     6215     yes   no   \n",
      "4   37     services  married  secondary      no     1694     yes  yes   \n",
      "5   40       admin.  married  secondary      no     -666     yes   no   \n",
      "6   54   technician  married  secondary      no        0      no   no   \n",
      "7   48  blue-collar  married  secondary      no     1730     yes   no   \n",
      "8   29   management   single    unknown      no      560      no   no   \n",
      "9   52     services  married  secondary      no      431      no   no   \n",
      "\n",
      "     contact  day month  duration  campaign  pdays  previous poutcome deposit  \n",
      "0   cellular   14   oct       113         1     50         2  success      no  \n",
      "1   cellular    8   aug       203         5     -1         0  unknown      no  \n",
      "2   cellular    4   may       716         3    263         2  failure     yes  \n",
      "3   cellular   11   may       549         1     -1         0  unknown      no  \n",
      "4   cellular   29   jan       404         2    251         6  failure      no  \n",
      "5    unknown   27   may       107         2     -1         0  unknown      no  \n",
      "6  telephone    5   feb       744         3     -1         0  unknown     yes  \n",
      "7   cellular    4   may       361         1     89         3  success     yes  \n",
      "8   cellular    5   apr       459         1    307         1  failure     yes  \n",
      "9   cellular   26   aug        73        17     -1         0  unknown      no  \n"
     ]
    }
   ],
   "source": [
    "print(data.shape)\n",
    "print(data.head(10))"
   ]
  },
  {
   "cell_type": "code",
   "execution_count": 7,
   "id": "2ebea4cf-1dc8-4e12-82af-6b5fab6ac24c",
   "metadata": {},
   "outputs": [
    {
     "data": {
      "text/plain": [
       "Index(['age', 'job', 'marital', 'education', 'default', 'balance', 'housing',\n",
       "       'loan', 'contact', 'day', 'month', 'duration', 'campaign', 'pdays',\n",
       "       'previous', 'poutcome', 'deposit'],\n",
       "      dtype='object')"
      ]
     },
     "execution_count": 7,
     "metadata": {},
     "output_type": "execute_result"
    }
   ],
   "source": [
    "data.columns"
   ]
  },
  {
   "cell_type": "code",
   "execution_count": 8,
   "id": "15e88624-1517-4ef7-b345-d1925c7f651e",
   "metadata": {},
   "outputs": [
    {
     "data": {
      "text/plain": [
       "Index(['age', 'job', 'marital', 'education', 'default', 'balance', 'housing',\n",
       "       'loan', 'contact', 'day', 'month', 'duration', 'campaign', 'pdays',\n",
       "       'previous', 'poutcome'],\n",
       "      dtype='object')"
      ]
     },
     "execution_count": 8,
     "metadata": {},
     "output_type": "execute_result"
    }
   ],
   "source": [
    "test_data.columns"
   ]
  },
  {
   "cell_type": "code",
   "execution_count": 9,
   "id": "87a16127-b844-438b-b762-50c42ac5d9de",
   "metadata": {},
   "outputs": [
    {
     "name": "stdout",
     "output_type": "stream",
     "text": [
      "<class 'pandas.core.frame.DataFrame'>\n",
      "RangeIndex: 8371 entries, 0 to 8370\n",
      "Data columns (total 17 columns):\n",
      " #   Column     Non-Null Count  Dtype \n",
      "---  ------     --------------  ----- \n",
      " 0   age        8371 non-null   int64 \n",
      " 1   job        8371 non-null   object\n",
      " 2   marital    8371 non-null   object\n",
      " 3   education  8371 non-null   object\n",
      " 4   default    8371 non-null   object\n",
      " 5   balance    8371 non-null   int64 \n",
      " 6   housing    8371 non-null   object\n",
      " 7   loan       8371 non-null   object\n",
      " 8   contact    8371 non-null   object\n",
      " 9   day        8371 non-null   int64 \n",
      " 10  month      8371 non-null   object\n",
      " 11  duration   8371 non-null   int64 \n",
      " 12  campaign   8371 non-null   int64 \n",
      " 13  pdays      8371 non-null   int64 \n",
      " 14  previous   8371 non-null   int64 \n",
      " 15  poutcome   8371 non-null   object\n",
      " 16  deposit    8371 non-null   object\n",
      "dtypes: int64(7), object(10)\n",
      "memory usage: 1.1+ MB\n"
     ]
    }
   ],
   "source": [
    "data.info()"
   ]
  },
  {
   "cell_type": "raw",
   "id": "5f2a624c-c63e-40b6-8e4a-a9395035472a",
   "metadata": {},
   "source": [
    "''''''Separating data into X and Y to calculate metrics'''''"
   ]
  },
  {
   "cell_type": "code",
   "execution_count": 10,
   "id": "43519d4b-a04e-4c69-abfc-f6942d12b0d5",
   "metadata": {},
   "outputs": [
    {
     "name": "stdout",
     "output_type": "stream",
     "text": [
      "<class 'pandas.core.frame.DataFrame'>\n",
      "RangeIndex: 2791 entries, 0 to 2790\n",
      "Data columns (total 16 columns):\n",
      " #   Column     Non-Null Count  Dtype \n",
      "---  ------     --------------  ----- \n",
      " 0   age        2791 non-null   int64 \n",
      " 1   job        2791 non-null   object\n",
      " 2   marital    2791 non-null   object\n",
      " 3   education  2791 non-null   object\n",
      " 4   default    2791 non-null   object\n",
      " 5   balance    2791 non-null   int64 \n",
      " 6   housing    2791 non-null   object\n",
      " 7   loan       2791 non-null   object\n",
      " 8   contact    2791 non-null   object\n",
      " 9   day        2791 non-null   int64 \n",
      " 10  month      2791 non-null   object\n",
      " 11  duration   2791 non-null   int64 \n",
      " 12  campaign   2791 non-null   int64 \n",
      " 13  pdays      2791 non-null   int64 \n",
      " 14  previous   2791 non-null   int64 \n",
      " 15  poutcome   2791 non-null   object\n",
      "dtypes: int64(7), object(9)\n",
      "memory usage: 349.0+ KB\n"
     ]
    }
   ],
   "source": [
    "test_data.info()"
   ]
  },
  {
   "cell_type": "code",
   "execution_count": 11,
   "id": "eeb0e012-ecc4-4199-8376-c38ad9e91622",
   "metadata": {},
   "outputs": [
    {
     "data": {
      "text/plain": [
       "(8371, 17)"
      ]
     },
     "execution_count": 11,
     "metadata": {},
     "output_type": "execute_result"
    }
   ],
   "source": [
    "data.shape"
   ]
  },
  {
   "cell_type": "code",
   "execution_count": 12,
   "id": "f3138097-2f42-4949-a400-c1e69dc8a40f",
   "metadata": {},
   "outputs": [
    {
     "data": {
      "text/plain": [
       "(2791, 16)"
      ]
     },
     "execution_count": 12,
     "metadata": {},
     "output_type": "execute_result"
    }
   ],
   "source": [
    "test_data.shape"
   ]
  },
  {
   "cell_type": "raw",
   "id": "8b70e3c5-25b7-4379-acfe-c84350da5c95",
   "metadata": {},
   "source": [
    "Here total 16 similar data in both daatset and deposit is the variable thta is to be predicted"
   ]
  },
  {
   "cell_type": "code",
   "execution_count": 13,
   "id": "c7cf431b-d683-4db4-804e-d5de01091d47",
   "metadata": {},
   "outputs": [
    {
     "data": {
      "text/html": [
       "<div>\n",
       "<style scoped>\n",
       "    .dataframe tbody tr th:only-of-type {\n",
       "        vertical-align: middle;\n",
       "    }\n",
       "\n",
       "    .dataframe tbody tr th {\n",
       "        vertical-align: top;\n",
       "    }\n",
       "\n",
       "    .dataframe thead th {\n",
       "        text-align: right;\n",
       "    }\n",
       "</style>\n",
       "<table border=\"1\" class=\"dataframe\">\n",
       "  <thead>\n",
       "    <tr style=\"text-align: right;\">\n",
       "      <th></th>\n",
       "      <th>age</th>\n",
       "      <th>job</th>\n",
       "      <th>marital</th>\n",
       "      <th>education</th>\n",
       "      <th>default</th>\n",
       "      <th>balance</th>\n",
       "      <th>housing</th>\n",
       "      <th>loan</th>\n",
       "      <th>contact</th>\n",
       "      <th>day</th>\n",
       "      <th>month</th>\n",
       "      <th>duration</th>\n",
       "      <th>campaign</th>\n",
       "      <th>pdays</th>\n",
       "      <th>previous</th>\n",
       "      <th>poutcome</th>\n",
       "      <th>deposit</th>\n",
       "    </tr>\n",
       "  </thead>\n",
       "  <tbody>\n",
       "    <tr>\n",
       "      <th>0</th>\n",
       "      <td>38</td>\n",
       "      <td>technician</td>\n",
       "      <td>married</td>\n",
       "      <td>tertiary</td>\n",
       "      <td>no</td>\n",
       "      <td>127</td>\n",
       "      <td>yes</td>\n",
       "      <td>no</td>\n",
       "      <td>cellular</td>\n",
       "      <td>14</td>\n",
       "      <td>oct</td>\n",
       "      <td>113</td>\n",
       "      <td>1</td>\n",
       "      <td>50</td>\n",
       "      <td>2</td>\n",
       "      <td>success</td>\n",
       "      <td>no</td>\n",
       "    </tr>\n",
       "    <tr>\n",
       "      <th>1</th>\n",
       "      <td>41</td>\n",
       "      <td>housemaid</td>\n",
       "      <td>married</td>\n",
       "      <td>primary</td>\n",
       "      <td>no</td>\n",
       "      <td>365</td>\n",
       "      <td>no</td>\n",
       "      <td>no</td>\n",
       "      <td>cellular</td>\n",
       "      <td>8</td>\n",
       "      <td>aug</td>\n",
       "      <td>203</td>\n",
       "      <td>5</td>\n",
       "      <td>-1</td>\n",
       "      <td>0</td>\n",
       "      <td>unknown</td>\n",
       "      <td>no</td>\n",
       "    </tr>\n",
       "    <tr>\n",
       "      <th>2</th>\n",
       "      <td>39</td>\n",
       "      <td>management</td>\n",
       "      <td>single</td>\n",
       "      <td>tertiary</td>\n",
       "      <td>no</td>\n",
       "      <td>2454</td>\n",
       "      <td>yes</td>\n",
       "      <td>no</td>\n",
       "      <td>cellular</td>\n",
       "      <td>4</td>\n",
       "      <td>may</td>\n",
       "      <td>716</td>\n",
       "      <td>3</td>\n",
       "      <td>263</td>\n",
       "      <td>2</td>\n",
       "      <td>failure</td>\n",
       "      <td>yes</td>\n",
       "    </tr>\n",
       "    <tr>\n",
       "      <th>3</th>\n",
       "      <td>49</td>\n",
       "      <td>blue-collar</td>\n",
       "      <td>married</td>\n",
       "      <td>primary</td>\n",
       "      <td>no</td>\n",
       "      <td>6215</td>\n",
       "      <td>yes</td>\n",
       "      <td>no</td>\n",
       "      <td>cellular</td>\n",
       "      <td>11</td>\n",
       "      <td>may</td>\n",
       "      <td>549</td>\n",
       "      <td>1</td>\n",
       "      <td>-1</td>\n",
       "      <td>0</td>\n",
       "      <td>unknown</td>\n",
       "      <td>no</td>\n",
       "    </tr>\n",
       "    <tr>\n",
       "      <th>4</th>\n",
       "      <td>37</td>\n",
       "      <td>services</td>\n",
       "      <td>married</td>\n",
       "      <td>secondary</td>\n",
       "      <td>no</td>\n",
       "      <td>1694</td>\n",
       "      <td>yes</td>\n",
       "      <td>yes</td>\n",
       "      <td>cellular</td>\n",
       "      <td>29</td>\n",
       "      <td>jan</td>\n",
       "      <td>404</td>\n",
       "      <td>2</td>\n",
       "      <td>251</td>\n",
       "      <td>6</td>\n",
       "      <td>failure</td>\n",
       "      <td>no</td>\n",
       "    </tr>\n",
       "  </tbody>\n",
       "</table>\n",
       "</div>"
      ],
      "text/plain": [
       "   age          job  marital  education default  balance housing loan  \\\n",
       "0   38   technician  married   tertiary      no      127     yes   no   \n",
       "1   41    housemaid  married    primary      no      365      no   no   \n",
       "2   39   management   single   tertiary      no     2454     yes   no   \n",
       "3   49  blue-collar  married    primary      no     6215     yes   no   \n",
       "4   37     services  married  secondary      no     1694     yes  yes   \n",
       "\n",
       "    contact  day month  duration  campaign  pdays  previous poutcome deposit  \n",
       "0  cellular   14   oct       113         1     50         2  success      no  \n",
       "1  cellular    8   aug       203         5     -1         0  unknown      no  \n",
       "2  cellular    4   may       716         3    263         2  failure     yes  \n",
       "3  cellular   11   may       549         1     -1         0  unknown      no  \n",
       "4  cellular   29   jan       404         2    251         6  failure      no  "
      ]
     },
     "execution_count": 13,
     "metadata": {},
     "output_type": "execute_result"
    }
   ],
   "source": [
    "data.head()"
   ]
  },
  {
   "cell_type": "code",
   "execution_count": 14,
   "id": "b244fbfa-c2c1-4d97-8f74-e0d105bfab8e",
   "metadata": {},
   "outputs": [
    {
     "data": {
      "text/html": [
       "<div>\n",
       "<style scoped>\n",
       "    .dataframe tbody tr th:only-of-type {\n",
       "        vertical-align: middle;\n",
       "    }\n",
       "\n",
       "    .dataframe tbody tr th {\n",
       "        vertical-align: top;\n",
       "    }\n",
       "\n",
       "    .dataframe thead th {\n",
       "        text-align: right;\n",
       "    }\n",
       "</style>\n",
       "<table border=\"1\" class=\"dataframe\">\n",
       "  <thead>\n",
       "    <tr style=\"text-align: right;\">\n",
       "      <th></th>\n",
       "      <th>age</th>\n",
       "      <th>job</th>\n",
       "      <th>marital</th>\n",
       "      <th>education</th>\n",
       "      <th>default</th>\n",
       "      <th>balance</th>\n",
       "      <th>housing</th>\n",
       "      <th>loan</th>\n",
       "      <th>contact</th>\n",
       "      <th>day</th>\n",
       "      <th>month</th>\n",
       "      <th>duration</th>\n",
       "      <th>campaign</th>\n",
       "      <th>pdays</th>\n",
       "      <th>previous</th>\n",
       "      <th>poutcome</th>\n",
       "    </tr>\n",
       "  </thead>\n",
       "  <tbody>\n",
       "    <tr>\n",
       "      <th>0</th>\n",
       "      <td>31</td>\n",
       "      <td>blue-collar</td>\n",
       "      <td>single</td>\n",
       "      <td>secondary</td>\n",
       "      <td>yes</td>\n",
       "      <td>477</td>\n",
       "      <td>no</td>\n",
       "      <td>no</td>\n",
       "      <td>cellular</td>\n",
       "      <td>20</td>\n",
       "      <td>nov</td>\n",
       "      <td>426</td>\n",
       "      <td>2</td>\n",
       "      <td>189</td>\n",
       "      <td>6</td>\n",
       "      <td>failure</td>\n",
       "    </tr>\n",
       "    <tr>\n",
       "      <th>1</th>\n",
       "      <td>49</td>\n",
       "      <td>blue-collar</td>\n",
       "      <td>married</td>\n",
       "      <td>primary</td>\n",
       "      <td>no</td>\n",
       "      <td>599</td>\n",
       "      <td>no</td>\n",
       "      <td>no</td>\n",
       "      <td>cellular</td>\n",
       "      <td>23</td>\n",
       "      <td>jul</td>\n",
       "      <td>464</td>\n",
       "      <td>1</td>\n",
       "      <td>-1</td>\n",
       "      <td>0</td>\n",
       "      <td>unknown</td>\n",
       "    </tr>\n",
       "    <tr>\n",
       "      <th>2</th>\n",
       "      <td>51</td>\n",
       "      <td>self-employed</td>\n",
       "      <td>single</td>\n",
       "      <td>tertiary</td>\n",
       "      <td>no</td>\n",
       "      <td>400</td>\n",
       "      <td>no</td>\n",
       "      <td>yes</td>\n",
       "      <td>cellular</td>\n",
       "      <td>27</td>\n",
       "      <td>may</td>\n",
       "      <td>200</td>\n",
       "      <td>1</td>\n",
       "      <td>-1</td>\n",
       "      <td>0</td>\n",
       "      <td>unknown</td>\n",
       "    </tr>\n",
       "    <tr>\n",
       "      <th>3</th>\n",
       "      <td>33</td>\n",
       "      <td>technician</td>\n",
       "      <td>married</td>\n",
       "      <td>secondary</td>\n",
       "      <td>no</td>\n",
       "      <td>488</td>\n",
       "      <td>yes</td>\n",
       "      <td>no</td>\n",
       "      <td>unknown</td>\n",
       "      <td>8</td>\n",
       "      <td>may</td>\n",
       "      <td>703</td>\n",
       "      <td>1</td>\n",
       "      <td>-1</td>\n",
       "      <td>0</td>\n",
       "      <td>unknown</td>\n",
       "    </tr>\n",
       "    <tr>\n",
       "      <th>4</th>\n",
       "      <td>34</td>\n",
       "      <td>admin.</td>\n",
       "      <td>married</td>\n",
       "      <td>secondary</td>\n",
       "      <td>no</td>\n",
       "      <td>40</td>\n",
       "      <td>yes</td>\n",
       "      <td>no</td>\n",
       "      <td>telephone</td>\n",
       "      <td>5</td>\n",
       "      <td>may</td>\n",
       "      <td>125</td>\n",
       "      <td>2</td>\n",
       "      <td>-1</td>\n",
       "      <td>0</td>\n",
       "      <td>unknown</td>\n",
       "    </tr>\n",
       "  </tbody>\n",
       "</table>\n",
       "</div>"
      ],
      "text/plain": [
       "   age            job  marital  education default  balance housing loan  \\\n",
       "0   31    blue-collar   single  secondary     yes      477      no   no   \n",
       "1   49    blue-collar  married    primary      no      599      no   no   \n",
       "2   51  self-employed   single   tertiary      no      400      no  yes   \n",
       "3   33     technician  married  secondary      no      488     yes   no   \n",
       "4   34         admin.  married  secondary      no       40     yes   no   \n",
       "\n",
       "     contact  day month  duration  campaign  pdays  previous poutcome  \n",
       "0   cellular   20   nov       426         2    189         6  failure  \n",
       "1   cellular   23   jul       464         1     -1         0  unknown  \n",
       "2   cellular   27   may       200         1     -1         0  unknown  \n",
       "3    unknown    8   may       703         1     -1         0  unknown  \n",
       "4  telephone    5   may       125         2     -1         0  unknown  "
      ]
     },
     "execution_count": 14,
     "metadata": {},
     "output_type": "execute_result"
    }
   ],
   "source": [
    "test_data.head()"
   ]
  },
  {
   "cell_type": "raw",
   "id": "522e5789-2c2b-422c-8419-8375722e46d0",
   "metadata": {},
   "source": [
    "Checking the missing values in both data set"
   ]
  },
  {
   "cell_type": "code",
   "execution_count": 15,
   "id": "28d11b38-23cc-4ad4-a05a-8d93013e23b6",
   "metadata": {},
   "outputs": [
    {
     "data": {
      "text/plain": [
       "age          0\n",
       "job          0\n",
       "marital      0\n",
       "education    0\n",
       "default      0\n",
       "balance      0\n",
       "housing      0\n",
       "loan         0\n",
       "contact      0\n",
       "day          0\n",
       "month        0\n",
       "duration     0\n",
       "campaign     0\n",
       "pdays        0\n",
       "previous     0\n",
       "poutcome     0\n",
       "deposit      0\n",
       "dtype: int64"
      ]
     },
     "execution_count": 15,
     "metadata": {},
     "output_type": "execute_result"
    }
   ],
   "source": [
    "data.isnull().sum()"
   ]
  },
  {
   "cell_type": "code",
   "execution_count": 17,
   "id": "ff116943-c552-43f6-aa73-b8add2b13542",
   "metadata": {},
   "outputs": [
    {
     "data": {
      "text/plain": [
       "age          0\n",
       "job          0\n",
       "marital      0\n",
       "education    0\n",
       "default      0\n",
       "balance      0\n",
       "housing      0\n",
       "loan         0\n",
       "contact      0\n",
       "day          0\n",
       "month        0\n",
       "duration     0\n",
       "campaign     0\n",
       "pdays        0\n",
       "previous     0\n",
       "poutcome     0\n",
       "dtype: int64"
      ]
     },
     "execution_count": 17,
     "metadata": {},
     "output_type": "execute_result"
    }
   ],
   "source": [
    "test_data.isnull().sum()"
   ]
  },
  {
   "cell_type": "raw",
   "id": "5eacba5d-5526-40dd-9d0f-71672298ee9a",
   "metadata": {},
   "source": [
    "Analysis of deposit variable"
   ]
  },
  {
   "cell_type": "code",
   "execution_count": 18,
   "id": "dfd62ab3-772a-40a8-b2b0-5a87c52926ff",
   "metadata": {},
   "outputs": [
    {
     "data": {
      "text/plain": [
       "no     4428\n",
       "yes    3943\n",
       "Name: deposit, dtype: int64"
      ]
     },
     "execution_count": 18,
     "metadata": {},
     "output_type": "execute_result"
    }
   ],
   "source": [
    "# frequency \n",
    "data['deposit'].value_counts()"
   ]
  },
  {
   "cell_type": "raw",
   "id": "50df07f4-83c2-46e4-8b36-9a3bc1f3bd8e",
   "metadata": {},
   "source": [
    "Ploting the deposit frequency"
   ]
  },
  {
   "cell_type": "code",
   "execution_count": 19,
   "id": "3512b452-f8e6-40c6-b4c2-30bc3351ba9e",
   "metadata": {},
   "outputs": [
    {
     "data": {
      "text/plain": [
       "<AxesSubplot: xlabel='deposit', ylabel='count'>"
      ]
     },
     "execution_count": 19,
     "metadata": {},
     "output_type": "execute_result"
    },
    {
     "data": {
      "image/png": "[encoded data removed]",
      "text/plain": [
       "<Figure size 640x480 with 1 Axes>"
      ]
     },
     "metadata": {},
     "output_type": "display_data"
    }
   ],
   "source": [
    "sns.countplot(data=data, x='deposit')"
   ]
  },
  {
   "cell_type": "code",
   "execution_count": 20,
   "id": "c22869ff-3ead-4f2e-a7cc-5b6c8e61872d",
   "metadata": {},
   "outputs": [
    {
     "data": {
      "text/plain": [
       "no     0.528969\n",
       "yes    0.471031\n",
       "Name: deposit, dtype: float64"
      ]
     },
     "execution_count": 20,
     "metadata": {},
     "output_type": "execute_result"
    }
   ],
   "source": [
    "# Normalizing the frequency table\n",
    "data['deposit'].value_counts(normalize =True)"
   ]
  },
  {
   "cell_type": "code",
   "execution_count": 21,
   "id": "fd8a2c70-e1f2-44a9-8c63-1df414f25747",
   "metadata": {},
   "outputs": [
    {
     "data": {
      "text/plain": [
       "management       1923\n",
       "blue-collar      1472\n",
       "technician       1371\n",
       "admin.           1017\n",
       "services          671\n",
       "retired           563\n",
       "self-employed     307\n",
       "unemployed        282\n",
       "student           273\n",
       "entrepreneur      244\n",
       "housemaid         197\n",
       "unknown            51\n",
       "Name: job, dtype: int64"
      ]
     },
     "execution_count": 21,
     "metadata": {},
     "output_type": "execute_result"
    }
   ],
   "source": [
    "# ANALYSING THE 'job' VARIABLE\n",
    "\n",
    "data['job'].value_counts()"
   ]
  },
  {
   "cell_type": "code",
   "execution_count": 27,
   "id": "3f1a2b97-b4f9-456f-8a4f-b41bfd5fa0bc",
   "metadata": {},
   "outputs": [
    {
     "data": {
      "image/png": "[encoded data removed]",
      "text/plain": [
       "<Figure size 1500x600 with 1 Axes>"
      ]
     },
     "metadata": {},
     "output_type": "display_data"
    }
   ],
   "source": [
    "# PLOTTING THE JOB FREQUENCY\n",
    "\n",
    "sns.set_context('paper')\n",
    "data['job'].value_counts().plot(kind='pie', figsize=(15,6));"
   ]
  },
  {
   "cell_type": "code",
   "execution_count": 29,
   "id": "cc9a0bc9-015e-4644-a990-19d302510fc7",
   "metadata": {},
   "outputs": [
    {
     "data": {
      "text/plain": [
       "married     4744\n",
       "single      2645\n",
       "divorced     982\n",
       "Name: marital, dtype: int64"
      ]
     },
     "execution_count": 29,
     "metadata": {},
     "output_type": "execute_result"
    }
   ],
   "source": [
    "# ANALYSIS OF 'marital' status\n",
    "\n",
    "data['marital'].value_counts()"
   ]
  },
  {
   "cell_type": "code",
   "execution_count": 33,
   "id": "72c8c65c-ca1f-4089-9c37-ba5315548214",
   "metadata": {},
   "outputs": [
    {
     "data": {
      "image/png": "[encoded data removed]",
      "text/plain": [
       "<Figure size 1500x1000 with 1 Axes>"
      ]
     },
     "metadata": {},
     "output_type": "display_data"
    }
   ],
   "source": [
    "# sns.countplot(data=data, x='marital');\n",
    "sns.set_context('paper')\n",
    "data['marital'].value_counts().plot(kind='bar', figsize=(15,10));"
   ]
  },
  {
   "cell_type": "code",
   "execution_count": 34,
   "id": "1a1d0b53-ed56-464f-b3b2-34d5a91c5735",
   "metadata": {},
   "outputs": [
    {
     "data": {
      "text/plain": [
       "<AxesSubplot: xlabel='marital', ylabel='count'>"
      ]
     },
     "execution_count": 34,
     "metadata": {},
     "output_type": "execute_result"
    },
    {
     "data": {
      "image/png": "[encoded data removed]",
      "text/plain": [
       "<Figure size 640x480 with 1 Axes>"
      ]
     },
     "metadata": {},
     "output_type": "display_data"
    }
   ],
   "source": [
    "sns.countplot(data=data, x='marital', hue='deposit')"
   ]
  },
  {
   "cell_type": "code",
   "execution_count": 40,
   "id": "c7443c58-dcbf-49b6-b89e-ea7582991210",
   "metadata": {},
   "outputs": [
    {
     "data": {
      "image/png": "[encoded data removed]",
      "text/plain": [
       "<Figure size 640x480 with 1 Axes>"
      ]
     },
     "metadata": {},
     "output_type": "display_data"
    }
   ],
   "source": [
    "# ANALYSING THE 'age' VARIABLE\n",
    "sns.plot(data['age']);\n",
    "\n"
   ]
  },
  {
   "cell_type": "code",
   "execution_count": 41,
   "id": "78d2e062-dfd0-4e05-b288-591eaf3d7220",
   "metadata": {},
   "outputs": [
    {
     "name": "stdout",
     "output_type": "stream",
     "text": [
      "deposit         no  yes\n",
      "job                    \n",
      "admin.         537  480\n",
      "blue-collar    937  535\n",
      "entrepreneur   150   94\n",
      "housemaid      116   81\n",
      "management     952  971\n",
      "retired        190  373\n",
      "self-employed  169  138\n",
      "services       400  271\n",
      "student         70  203\n",
      "technician     755  616\n",
      "unemployed     126  156\n",
      "unknown         26   25\n"
     ]
    }
   ],
   "source": [
    "# JOB VS DEPOSIT\n",
    "\n",
    "print(pd.crosstab(data['job'],data['deposit']))"
   ]
  },
  {
   "cell_type": "code",
   "execution_count": 44,
   "id": "b11e5506-7c3b-46a7-b874-77e0ec59bd22",
   "metadata": {},
   "outputs": [],
   "source": [
    "job = pd.crosstab(data['job'],data['deposit'])\n",
    "job_norm = job.div(job.sum(1).astype(float), axis=0)"
   ]
  },
  {
   "cell_type": "code",
   "execution_count": 47,
   "id": "6d3234d0-48ec-48f9-87d8-339246134a26",
   "metadata": {},
   "outputs": [
    {
     "data": {
      "image/png": "[encoded data removed]",
      "text/plain": [
       "<Figure size 1000x600 with 1 Axes>"
      ]
     },
     "metadata": {},
     "output_type": "display_data"
    }
   ],
   "source": [
    "job_norm.plot.barh(stacked=True,figsize=(10,6));"
   ]
  },
  {
   "cell_type": "code",
   "execution_count": 49,
   "id": "7504c405-460b-4939-be0f-5b48df274d00",
   "metadata": {},
   "outputs": [
    {
     "data": {
      "text/html": [
       "<div>\n",
       "<style scoped>\n",
       "    .dataframe tbody tr th:only-of-type {\n",
       "        vertical-align: middle;\n",
       "    }\n",
       "\n",
       "    .dataframe tbody tr th {\n",
       "        vertical-align: top;\n",
       "    }\n",
       "\n",
       "    .dataframe thead th {\n",
       "        text-align: right;\n",
       "    }\n",
       "</style>\n",
       "<table border=\"1\" class=\"dataframe\">\n",
       "  <thead>\n",
       "    <tr style=\"text-align: right;\">\n",
       "      <th>deposit</th>\n",
       "      <th>no</th>\n",
       "      <th>yes</th>\n",
       "    </tr>\n",
       "    <tr>\n",
       "      <th>marital</th>\n",
       "      <th></th>\n",
       "      <th></th>\n",
       "    </tr>\n",
       "  </thead>\n",
       "  <tbody>\n",
       "    <tr>\n",
       "      <th>divorced</th>\n",
       "      <td>512</td>\n",
       "      <td>470</td>\n",
       "    </tr>\n",
       "    <tr>\n",
       "      <th>married</th>\n",
       "      <td>2715</td>\n",
       "      <td>2029</td>\n",
       "    </tr>\n",
       "    <tr>\n",
       "      <th>single</th>\n",
       "      <td>1201</td>\n",
       "      <td>1444</td>\n",
       "    </tr>\n",
       "  </tbody>\n",
       "</table>\n",
       "</div>"
      ],
      "text/plain": [
       "deposit     no   yes\n",
       "marital             \n",
       "divorced   512   470\n",
       "married   2715  2029\n",
       "single    1201  1444"
      ]
     },
     "execution_count": 49,
     "metadata": {},
     "output_type": "execute_result"
    }
   ],
   "source": [
    "#Marital status vs deposit\n",
    "pd.crosstab(data['marital'], data['deposit'])"
   ]
  },
  {
   "cell_type": "code",
   "execution_count": 50,
   "id": "71875873-229d-4c51-965d-7e75ee5bc568",
   "metadata": {},
   "outputs": [
    {
     "data": {
      "text/html": [
       "<div>\n",
       "<style scoped>\n",
       "    .dataframe tbody tr th:only-of-type {\n",
       "        vertical-align: middle;\n",
       "    }\n",
       "\n",
       "    .dataframe tbody tr th {\n",
       "        vertical-align: top;\n",
       "    }\n",
       "\n",
       "    .dataframe thead th {\n",
       "        text-align: right;\n",
       "    }\n",
       "</style>\n",
       "<table border=\"1\" class=\"dataframe\">\n",
       "  <thead>\n",
       "    <tr style=\"text-align: right;\">\n",
       "      <th>deposit</th>\n",
       "      <th>no</th>\n",
       "      <th>yes</th>\n",
       "    </tr>\n",
       "    <tr>\n",
       "      <th>marital</th>\n",
       "      <th></th>\n",
       "      <th></th>\n",
       "    </tr>\n",
       "  </thead>\n",
       "  <tbody>\n",
       "    <tr>\n",
       "      <th>divorced</th>\n",
       "      <td>0.521385</td>\n",
       "      <td>0.478615</td>\n",
       "    </tr>\n",
       "    <tr>\n",
       "      <th>married</th>\n",
       "      <td>0.572302</td>\n",
       "      <td>0.427698</td>\n",
       "    </tr>\n",
       "    <tr>\n",
       "      <th>single</th>\n",
       "      <td>0.454064</td>\n",
       "      <td>0.545936</td>\n",
       "    </tr>\n",
       "  </tbody>\n",
       "</table>\n",
       "</div>"
      ],
      "text/plain": [
       "deposit         no       yes\n",
       "marital                     \n",
       "divorced  0.521385  0.478615\n",
       "married   0.572302  0.427698\n",
       "single    0.454064  0.545936"
      ]
     },
     "execution_count": 50,
     "metadata": {},
     "output_type": "execute_result"
    }
   ],
   "source": [
    "marital = pd.crosstab(data['marital'], data['deposit'])\n",
    "marital_norm = marital.div(marital.sum(1).astype(float), axis=0)\n",
    "marital_norm"
   ]
  },
  {
   "cell_type": "code",
   "execution_count": 53,
   "id": "a3db921d-1635-475e-bb00-5979e45090d1",
   "metadata": {},
   "outputs": [
    {
     "data": {
      "image/png": "[encoded data removed]",
      "text/plain": [
       "<Figure size 1200x600 with 1 Axes>"
      ]
     },
     "metadata": {},
     "output_type": "display_data"
    }
   ],
   "source": [
    "marital_norm.plot.barh(stacked=True, figsize=(12,6));"
   ]
  },
  {
   "cell_type": "code",
   "execution_count": 59,
   "id": "f6ec4101-1ae9-4b08-a391-99e6787f3b97",
   "metadata": {},
   "outputs": [
    {
     "data": {
      "text/html": [
       "<div>\n",
       "<style scoped>\n",
       "    .dataframe tbody tr th:only-of-type {\n",
       "        vertical-align: middle;\n",
       "    }\n",
       "\n",
       "    .dataframe tbody tr th {\n",
       "        vertical-align: top;\n",
       "    }\n",
       "\n",
       "    .dataframe thead th {\n",
       "        text-align: right;\n",
       "    }\n",
       "</style>\n",
       "<table border=\"1\" class=\"dataframe\">\n",
       "  <thead>\n",
       "    <tr style=\"text-align: right;\">\n",
       "      <th>deposit</th>\n",
       "      <th>no</th>\n",
       "      <th>yes</th>\n",
       "    </tr>\n",
       "    <tr>\n",
       "      <th>default</th>\n",
       "      <th></th>\n",
       "      <th></th>\n",
       "    </tr>\n",
       "  </thead>\n",
       "  <tbody>\n",
       "    <tr>\n",
       "      <th>no</th>\n",
       "      <td>0.526565</td>\n",
       "      <td>0.473435</td>\n",
       "    </tr>\n",
       "    <tr>\n",
       "      <th>yes</th>\n",
       "      <td>0.685039</td>\n",
       "      <td>0.314961</td>\n",
       "    </tr>\n",
       "  </tbody>\n",
       "</table>\n",
       "</div>"
      ],
      "text/plain": [
       "deposit        no       yes\n",
       "default                    \n",
       "no       0.526565  0.473435\n",
       "yes      0.685039  0.314961"
      ]
     },
     "execution_count": 59,
     "metadata": {},
     "output_type": "execute_result"
    }
   ],
   "source": [
    "default = pd.crosstab(data['default'], data['deposit'])\n",
    "default_norm = default.div(default.sum(1).astype(float), axis=0)\n",
    "default_norm"
   ]
  },
  {
   "cell_type": "code",
   "execution_count": 60,
   "id": "0c5c8d2e-f4dd-4c9e-9d32-a4f402ae797c",
   "metadata": {},
   "outputs": [
    {
     "data": {
      "text/plain": [
       "<AxesSubplot: ylabel='default'>"
      ]
     },
     "execution_count": 60,
     "metadata": {},
     "output_type": "execute_result"
    },
    {
     "data": {
      "image/png": "[encoded data removed]",
      "text/plain": [
       "<Figure size 600x600 with 1 Axes>"
      ]
     },
     "metadata": {},
     "output_type": "display_data"
    }
   ],
   "source": [
    "default_norm.plot.barh(stacked=True, figsize=(6,6))"
   ]
  },
  {
   "cell_type": "code",
   "execution_count": 61,
   "id": "9bd262e6-e69d-4dcb-816b-6ef54c274f85",
   "metadata": {},
   "outputs": [],
   "source": [
    "# Converting the target variables into 0s and 1s\n",
    "data['deposit'].replace('no', 0,inplace=True)\n",
    "data['deposit'].replace('yes', 1,inplace=True)"
   ]
  },
  {
   "cell_type": "code",
   "execution_count": 62,
   "id": "5d54b812-a88f-46f7-9b11-72747a9d66c8",
   "metadata": {},
   "outputs": [
    {
     "data": {
      "text/plain": [
       "0       0\n",
       "1       0\n",
       "2       1\n",
       "3       0\n",
       "4       0\n",
       "       ..\n",
       "8366    1\n",
       "8367    1\n",
       "8368    0\n",
       "8369    0\n",
       "8370    1\n",
       "Name: deposit, Length: 8371, dtype: int64"
      ]
     },
     "execution_count": 62,
     "metadata": {},
     "output_type": "execute_result"
    }
   ],
   "source": [
    "data['deposit']"
   ]
  },
  {
   "cell_type": "code",
   "execution_count": 63,
   "id": "e1ed1932-da43-4d58-9775-a36c99249c39",
   "metadata": {},
   "outputs": [
    {
     "name": "stderr",
     "output_type": "stream",
     "text": [
      "C:\\Users\\Aniket Apraj\\AppData\\Local\\Temp\\ipykernel_12424\\245871367.py:4: FutureWarning: The default value of numeric_only in DataFrame.corr is deprecated. In a future version, it will default to False. Select only valid columns or specify the value of numeric_only to silence this warning.\n",
      "  tc = data.corr()\n"
     ]
    },
    {
     "data": {
      "text/html": [
       "<div>\n",
       "<style scoped>\n",
       "    .dataframe tbody tr th:only-of-type {\n",
       "        vertical-align: middle;\n",
       "    }\n",
       "\n",
       "    .dataframe tbody tr th {\n",
       "        vertical-align: top;\n",
       "    }\n",
       "\n",
       "    .dataframe thead th {\n",
       "        text-align: right;\n",
       "    }\n",
       "</style>\n",
       "<table border=\"1\" class=\"dataframe\">\n",
       "  <thead>\n",
       "    <tr style=\"text-align: right;\">\n",
       "      <th></th>\n",
       "      <th>age</th>\n",
       "      <th>balance</th>\n",
       "      <th>day</th>\n",
       "      <th>duration</th>\n",
       "      <th>campaign</th>\n",
       "      <th>pdays</th>\n",
       "      <th>previous</th>\n",
       "      <th>deposit</th>\n",
       "    </tr>\n",
       "  </thead>\n",
       "  <tbody>\n",
       "    <tr>\n",
       "      <th>age</th>\n",
       "      <td>1.000000</td>\n",
       "      <td>0.104354</td>\n",
       "      <td>0.008219</td>\n",
       "      <td>-0.001718</td>\n",
       "      <td>-0.002247</td>\n",
       "      <td>0.005537</td>\n",
       "      <td>0.027417</td>\n",
       "      <td>0.035981</td>\n",
       "    </tr>\n",
       "    <tr>\n",
       "      <th>balance</th>\n",
       "      <td>0.104354</td>\n",
       "      <td>1.000000</td>\n",
       "      <td>0.017427</td>\n",
       "      <td>0.019063</td>\n",
       "      <td>-0.017490</td>\n",
       "      <td>0.011066</td>\n",
       "      <td>0.014568</td>\n",
       "      <td>0.072905</td>\n",
       "    </tr>\n",
       "    <tr>\n",
       "      <th>day</th>\n",
       "      <td>0.008219</td>\n",
       "      <td>0.017427</td>\n",
       "      <td>1.000000</td>\n",
       "      <td>-0.021057</td>\n",
       "      <td>0.132670</td>\n",
       "      <td>-0.085508</td>\n",
       "      <td>-0.064294</td>\n",
       "      <td>-0.060022</td>\n",
       "    </tr>\n",
       "    <tr>\n",
       "      <th>duration</th>\n",
       "      <td>-0.001718</td>\n",
       "      <td>0.019063</td>\n",
       "      <td>-0.021057</td>\n",
       "      <td>1.000000</td>\n",
       "      <td>-0.045355</td>\n",
       "      <td>-0.028811</td>\n",
       "      <td>-0.029799</td>\n",
       "      <td>0.453144</td>\n",
       "    </tr>\n",
       "    <tr>\n",
       "      <th>campaign</th>\n",
       "      <td>-0.002247</td>\n",
       "      <td>-0.017490</td>\n",
       "      <td>0.132670</td>\n",
       "      <td>-0.045355</td>\n",
       "      <td>1.000000</td>\n",
       "      <td>-0.104697</td>\n",
       "      <td>-0.051024</td>\n",
       "      <td>-0.123973</td>\n",
       "    </tr>\n",
       "    <tr>\n",
       "      <th>pdays</th>\n",
       "      <td>0.005537</td>\n",
       "      <td>0.011066</td>\n",
       "      <td>-0.085508</td>\n",
       "      <td>-0.028811</td>\n",
       "      <td>-0.104697</td>\n",
       "      <td>1.000000</td>\n",
       "      <td>0.513477</td>\n",
       "      <td>0.149272</td>\n",
       "    </tr>\n",
       "    <tr>\n",
       "      <th>previous</th>\n",
       "      <td>0.027417</td>\n",
       "      <td>0.014568</td>\n",
       "      <td>-0.064294</td>\n",
       "      <td>-0.029799</td>\n",
       "      <td>-0.051024</td>\n",
       "      <td>0.513477</td>\n",
       "      <td>1.000000</td>\n",
       "      <td>0.140405</td>\n",
       "    </tr>\n",
       "    <tr>\n",
       "      <th>deposit</th>\n",
       "      <td>0.035981</td>\n",
       "      <td>0.072905</td>\n",
       "      <td>-0.060022</td>\n",
       "      <td>0.453144</td>\n",
       "      <td>-0.123973</td>\n",
       "      <td>0.149272</td>\n",
       "      <td>0.140405</td>\n",
       "      <td>1.000000</td>\n",
       "    </tr>\n",
       "  </tbody>\n",
       "</table>\n",
       "</div>"
      ],
      "text/plain": [
       "               age   balance       day  duration  campaign     pdays  \\\n",
       "age       1.000000  0.104354  0.008219 -0.001718 -0.002247  0.005537   \n",
       "balance   0.104354  1.000000  0.017427  0.019063 -0.017490  0.011066   \n",
       "day       0.008219  0.017427  1.000000 -0.021057  0.132670 -0.085508   \n",
       "duration -0.001718  0.019063 -0.021057  1.000000 -0.045355 -0.028811   \n",
       "campaign -0.002247 -0.017490  0.132670 -0.045355  1.000000 -0.104697   \n",
       "pdays     0.005537  0.011066 -0.085508 -0.028811 -0.104697  1.000000   \n",
       "previous  0.027417  0.014568 -0.064294 -0.029799 -0.051024  0.513477   \n",
       "deposit   0.035981  0.072905 -0.060022  0.453144 -0.123973  0.149272   \n",
       "\n",
       "          previous   deposit  \n",
       "age       0.027417  0.035981  \n",
       "balance   0.014568  0.072905  \n",
       "day      -0.064294 -0.060022  \n",
       "duration -0.029799  0.453144  \n",
       "campaign -0.051024 -0.123973  \n",
       "pdays     0.513477  0.149272  \n",
       "previous  1.000000  0.140405  \n",
       "deposit   0.140405  1.000000  "
      ]
     },
     "execution_count": 63,
     "metadata": {},
     "output_type": "execute_result"
    }
   ],
   "source": [
    "#Correlation matrix\n",
    "\n",
    "\n",
    "tc = data.corr()\n",
    "tc"
   ]
  },
  {
   "cell_type": "code",
   "execution_count": 64,
   "id": "26dd320b-fc1d-4aa4-ad17-c82f76223459",
   "metadata": {},
   "outputs": [
    {
     "data": {
      "text/plain": [
       "<AxesSubplot: >"
      ]
     },
     "execution_count": 64,
     "metadata": {},
     "output_type": "execute_result"
    },
    {
     "data": {
      "image/png": "[encoded data removed]",
      "text/plain": [
       "<Figure size 2000x1000 with 2 Axes>"
      ]
     },
     "metadata": {},
     "output_type": "display_data"
    }
   ],
   "source": [
    "fig,ax= plt.subplots()\n",
    "fig.set_size_inches(20,10)\n",
    "sns.heatmap(tc, annot=True, cmap='PuOr')"
   ]
  },
  {
   "cell_type": "raw",
   "id": "2409fef6-5d75-4558-b370-101d3a3f0913",
   "metadata": {},
   "source": [
    "'''''MODEL BUILDING''''''"
   ]
  },
  {
   "cell_type": "code",
   "execution_count": 66,
   "id": "f29c39a7-e8ee-4896-b835-937141b2448d",
   "metadata": {},
   "outputs": [],
   "source": [
    "target = data['deposit']\n",
    "data = data.drop('deposit', axis=1)"
   ]
  },
  {
   "cell_type": "code",
   "execution_count": 67,
   "id": "a71ecadb-fdc3-49d6-8a67-4c4fa92f0632",
   "metadata": {},
   "outputs": [
    {
     "data": {
      "text/html": [
       "<div>\n",
       "<style scoped>\n",
       "    .dataframe tbody tr th:only-of-type {\n",
       "        vertical-align: middle;\n",
       "    }\n",
       "\n",
       "    .dataframe tbody tr th {\n",
       "        vertical-align: top;\n",
       "    }\n",
       "\n",
       "    .dataframe thead th {\n",
       "        text-align: right;\n",
       "    }\n",
       "</style>\n",
       "<table border=\"1\" class=\"dataframe\">\n",
       "  <thead>\n",
       "    <tr style=\"text-align: right;\">\n",
       "      <th></th>\n",
       "      <th>age</th>\n",
       "      <th>balance</th>\n",
       "      <th>day</th>\n",
       "      <th>duration</th>\n",
       "      <th>campaign</th>\n",
       "      <th>pdays</th>\n",
       "      <th>previous</th>\n",
       "      <th>job_admin.</th>\n",
       "      <th>job_blue-collar</th>\n",
       "      <th>job_entrepreneur</th>\n",
       "      <th>...</th>\n",
       "      <th>month_jun</th>\n",
       "      <th>month_mar</th>\n",
       "      <th>month_may</th>\n",
       "      <th>month_nov</th>\n",
       "      <th>month_oct</th>\n",
       "      <th>month_sep</th>\n",
       "      <th>poutcome_failure</th>\n",
       "      <th>poutcome_other</th>\n",
       "      <th>poutcome_success</th>\n",
       "      <th>poutcome_unknown</th>\n",
       "    </tr>\n",
       "  </thead>\n",
       "  <tbody>\n",
       "    <tr>\n",
       "      <th>0</th>\n",
       "      <td>38</td>\n",
       "      <td>127</td>\n",
       "      <td>14</td>\n",
       "      <td>113</td>\n",
       "      <td>1</td>\n",
       "      <td>50</td>\n",
       "      <td>2</td>\n",
       "      <td>0</td>\n",
       "      <td>0</td>\n",
       "      <td>0</td>\n",
       "      <td>...</td>\n",
       "      <td>0</td>\n",
       "      <td>0</td>\n",
       "      <td>0</td>\n",
       "      <td>0</td>\n",
       "      <td>1</td>\n",
       "      <td>0</td>\n",
       "      <td>0</td>\n",
       "      <td>0</td>\n",
       "      <td>1</td>\n",
       "      <td>0</td>\n",
       "    </tr>\n",
       "    <tr>\n",
       "      <th>1</th>\n",
       "      <td>41</td>\n",
       "      <td>365</td>\n",
       "      <td>8</td>\n",
       "      <td>203</td>\n",
       "      <td>5</td>\n",
       "      <td>-1</td>\n",
       "      <td>0</td>\n",
       "      <td>0</td>\n",
       "      <td>0</td>\n",
       "      <td>0</td>\n",
       "      <td>...</td>\n",
       "      <td>0</td>\n",
       "      <td>0</td>\n",
       "      <td>0</td>\n",
       "      <td>0</td>\n",
       "      <td>0</td>\n",
       "      <td>0</td>\n",
       "      <td>0</td>\n",
       "      <td>0</td>\n",
       "      <td>0</td>\n",
       "      <td>1</td>\n",
       "    </tr>\n",
       "    <tr>\n",
       "      <th>2</th>\n",
       "      <td>39</td>\n",
       "      <td>2454</td>\n",
       "      <td>4</td>\n",
       "      <td>716</td>\n",
       "      <td>3</td>\n",
       "      <td>263</td>\n",
       "      <td>2</td>\n",
       "      <td>0</td>\n",
       "      <td>0</td>\n",
       "      <td>0</td>\n",
       "      <td>...</td>\n",
       "      <td>0</td>\n",
       "      <td>0</td>\n",
       "      <td>1</td>\n",
       "      <td>0</td>\n",
       "      <td>0</td>\n",
       "      <td>0</td>\n",
       "      <td>1</td>\n",
       "      <td>0</td>\n",
       "      <td>0</td>\n",
       "      <td>0</td>\n",
       "    </tr>\n",
       "    <tr>\n",
       "      <th>3</th>\n",
       "      <td>49</td>\n",
       "      <td>6215</td>\n",
       "      <td>11</td>\n",
       "      <td>549</td>\n",
       "      <td>1</td>\n",
       "      <td>-1</td>\n",
       "      <td>0</td>\n",
       "      <td>0</td>\n",
       "      <td>1</td>\n",
       "      <td>0</td>\n",
       "      <td>...</td>\n",
       "      <td>0</td>\n",
       "      <td>0</td>\n",
       "      <td>1</td>\n",
       "      <td>0</td>\n",
       "      <td>0</td>\n",
       "      <td>0</td>\n",
       "      <td>0</td>\n",
       "      <td>0</td>\n",
       "      <td>0</td>\n",
       "      <td>1</td>\n",
       "    </tr>\n",
       "    <tr>\n",
       "      <th>4</th>\n",
       "      <td>37</td>\n",
       "      <td>1694</td>\n",
       "      <td>29</td>\n",
       "      <td>404</td>\n",
       "      <td>2</td>\n",
       "      <td>251</td>\n",
       "      <td>6</td>\n",
       "      <td>0</td>\n",
       "      <td>0</td>\n",
       "      <td>0</td>\n",
       "      <td>...</td>\n",
       "      <td>0</td>\n",
       "      <td>0</td>\n",
       "      <td>0</td>\n",
       "      <td>0</td>\n",
       "      <td>0</td>\n",
       "      <td>0</td>\n",
       "      <td>1</td>\n",
       "      <td>0</td>\n",
       "      <td>0</td>\n",
       "      <td>0</td>\n",
       "    </tr>\n",
       "  </tbody>\n",
       "</table>\n",
       "<p>5 rows × 51 columns</p>\n",
       "</div>"
      ],
      "text/plain": [
       "   age  balance  day  duration  campaign  pdays  previous  job_admin.  \\\n",
       "0   38      127   14       113         1     50         2           0   \n",
       "1   41      365    8       203         5     -1         0           0   \n",
       "2   39     2454    4       716         3    263         2           0   \n",
       "3   49     6215   11       549         1     -1         0           0   \n",
       "4   37     1694   29       404         2    251         6           0   \n",
       "\n",
       "   job_blue-collar  job_entrepreneur  ...  month_jun  month_mar  month_may  \\\n",
       "0                0                 0  ...          0          0          0   \n",
       "1                0                 0  ...          0          0          0   \n",
       "2                0                 0  ...          0          0          1   \n",
       "3                1                 0  ...          0          0          1   \n",
       "4                0                 0  ...          0          0          0   \n",
       "\n",
       "   month_nov  month_oct  month_sep  poutcome_failure  poutcome_other  \\\n",
       "0          0          1          0                 0               0   \n",
       "1          0          0          0                 0               0   \n",
       "2          0          0          0                 1               0   \n",
       "3          0          0          0                 0               0   \n",
       "4          0          0          0                 1               0   \n",
       "\n",
       "   poutcome_success  poutcome_unknown  \n",
       "0                 1                 0  \n",
       "1                 0                 1  \n",
       "2                 0                 0  \n",
       "3                 0                 1  \n",
       "4                 0                 0  \n",
       "\n",
       "[5 rows x 51 columns]"
      ]
     },
     "execution_count": 67,
     "metadata": {},
     "output_type": "execute_result"
    }
   ],
   "source": [
    "#generating dummy values on the train dataset\n",
    "data = pd.get_dummies(data)\n",
    "data.head()"
   ]
  },
  {
   "cell_type": "raw",
   "id": "5c60055f-de44-4641-92e3-d74b0f85d9dc",
   "metadata": {},
   "source": [
    "''''''''Splitting the data into train and validation set as to validate the result''''''''"
   ]
  },
  {
   "cell_type": "code",
   "execution_count": 73,
   "id": "56ad43e9-52b5-4324-9872-c7a5ee23f57f",
   "metadata": {},
   "outputs": [],
   "source": [
    "from sklearn.model_selection import train_test_split\n",
    "X_train,X_test,Y_train,Y_test = train_test_split(data,target,test_size = 0.25,random_state = 1)"
   ]
  },
  {
   "cell_type": "raw",
   "id": "bc61b271-4b2c-49d3-b941-e217497992e0",
   "metadata": {},
   "source": [
    "######   LOGISTIC REGRESSION  ####### "
   ]
  },
  {
   "cell_type": "code",
   "execution_count": 4,
   "id": "67263a5a-5c0b-423a-be7e-bb27158a5145",
   "metadata": {},
   "outputs": [],
   "source": [
    "from sklearn.linear_model import LogisticRegression"
   ]
  },
  {
   "cell_type": "code",
   "execution_count": 5,
   "id": "d65658cd-b580-44a2-9ac6-702886eb311d",
   "metadata": {},
   "outputs": [],
   "source": [
    "#creating an object of logistic regression model\n",
    "\n",
    "\n",
    "lreg = LogisticRegression()"
   ]
  },
  {
   "cell_type": "code",
   "execution_count": 6,
   "id": "16a81135-b3d5-4215-a6ee-70df3c5d078f",
   "metadata": {},
   "outputs": [
    {
     "ename": "NameError",
     "evalue": "name 'X_train' is not defined",
     "output_type": "error",
     "traceback": [
      "\u001b[1;31m---------------------------------------------------------------------------\u001b[0m",
      "\u001b[1;31mNameError\u001b[0m                                 Traceback (most recent call last)",
      "Input \u001b[1;32mIn [6]\u001b[0m, in \u001b[0;36m<cell line: 2>\u001b[1;34m()\u001b[0m\n\u001b[0;32m      1\u001b[0m \u001b[38;5;66;03m#fitting the data into the model\u001b[39;00m\n\u001b[1;32m----> 2\u001b[0m lreg\u001b[38;5;241m.\u001b[39mfit(\u001b[43mX_train\u001b[49m,Y_train)\n",
      "\u001b[1;31mNameError\u001b[0m: name 'X_train' is not defined"
     ]
    }
   ],
   "source": [
    "#fitting the data into the model\n",
    "\n",
    "lreg.fit(X_train,Y_train)"
   ]
  },
  {
   "cell_type": "code",
   "execution_count": 7,
   "id": "511df43d-8162-486a-be12-e57203244b5f",
   "metadata": {},
   "outputs": [
    {
     "ename": "NameError",
     "evalue": "name 'X_test' is not defined",
     "output_type": "error",
     "traceback": [
      "\u001b[1;31m---------------------------------------------------------------------------\u001b[0m",
      "\u001b[1;31mNameError\u001b[0m                                 Traceback (most recent call last)",
      "Input \u001b[1;32mIn [7]\u001b[0m, in \u001b[0;36m<cell line: 1>\u001b[1;34m()\u001b[0m\n\u001b[1;32m----> 1\u001b[0m pred \u001b[38;5;241m=\u001b[39m lreg\u001b[38;5;241m.\u001b[39mpredict(\u001b[43mX_test\u001b[49m)\n",
      "\u001b[1;31mNameError\u001b[0m: name 'X_test' is not defined"
     ]
    }
   ],
   "source": [
    "pred = lreg.predict(X_test)"
   ]
  },
  {
   "cell_type": "code",
   "execution_count": null,
   "id": "6e5bf2fc-b196-461a-95ee-278cb77864fa",
   "metadata": {},
   "outputs": [],
   "source": []
  }
 ],
 "metadata": {
  "kernelspec": {
   "display_name": "Python 3 (ipykernel)",
   "language": "python",
   "name": "python3"
  },
  "language_info": {
   "codemirror_mode": {
    "name": "ipython",
    "version": 3
   },
   "file_extension": ".py",
   "mimetype": "text/x-python",
   "name": "python",
   "nbconvert_exporter": "python",
   "pygments_lexer": "ipython3",
   "version": "3.10.6"
  }
 },
 "nbformat": 4,
 "nbformat_minor": 5
}
